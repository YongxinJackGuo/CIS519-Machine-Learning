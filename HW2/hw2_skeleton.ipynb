{
  "nbformat": 4,
  "nbformat_minor": 0,
  "metadata": {
    "kernelspec": {
      "display_name": "Python 3",
      "language": "python",
      "name": "python3"
    },
    "language_info": {
      "codemirror_mode": {
        "name": "ipython",
        "version": 3
      },
      "file_extension": ".py",
      "mimetype": "text/x-python",
      "name": "python",
      "nbconvert_exporter": "python",
      "pygments_lexer": "ipython3",
      "version": "3.7.4"
    },
    "colab": {
      "name": "hw2_skeleton.ipynb",
      "provenance": [],
      "collapsed_sections": []
    }
  },
  "cells": [
    {
      "cell_type": "markdown",
      "metadata": {
        "Collapsed": "false",
        "id": "852vPjfLzHxM",
        "colab_type": "text"
      },
      "source": [
        "# CIS 519 HW 2"
      ]
    },
    {
      "cell_type": "code",
      "metadata": {
        "id": "E0k5niFD-iMy",
        "colab_type": "code",
        "colab": {}
      },
      "source": [
        "import pandas as pd\n",
        "\n",
        "import numpy as np\n",
        "from numpy import linalg as LA\n",
        "from numpy.linalg import *\n",
        "\n",
        "import matplotlib.pyplot as plt\n",
        "\n",
        "from sklearn.preprocessing import StandardScaler, MinMaxScaler"
      ],
      "execution_count": 0,
      "outputs": []
    },
    {
      "cell_type": "markdown",
      "metadata": {
        "Collapsed": "false",
        "id": "k3oFyr_wzHxV",
        "colab_type": "text"
      },
      "source": [
        "# Linear Regression"
      ]
    },
    {
      "cell_type": "code",
      "metadata": {
        "Collapsed": "false",
        "id": "9Y30de0dzHxW",
        "colab_type": "code",
        "colab": {}
      },
      "source": [
        "'''\n",
        "    Linear Regression via Gradient Descent\n",
        "'''\n",
        "\n",
        "class LinearRegression:\n",
        "\n",
        "    def __init__(self, init_theta=None, alpha=0.01, n_iter=100):\n",
        "        '''\n",
        "        Constructor\n",
        "        '''\n",
        "        self.alpha = alpha\n",
        "        self.n_iter = n_iter\n",
        "        self.theta = init_theta\n",
        "        self.JHist = None\n",
        "    \n",
        "\n",
        "    def gradientDescent(self, X, y, theta):\n",
        "        '''\n",
        "        Fits the model via gradient descent\n",
        "        Arguments:\n",
        "            X is a n-by-d numpy matrix\n",
        "            y is an n-dimensional numpy vector\n",
        "            theta is a d-dimensional numpy vector\n",
        "        Returns:\n",
        "            the final theta found by gradient descent\n",
        "        '''\n",
        "        n,d = X.shape\n",
        "        self.JHist = []\n",
        "        for i in range(self.n_iter):\n",
        "            self.JHist.append( (self.computeCost(X, y, theta), theta) )\n",
        "            print(\"Iteration: \", i+1, \" Cost: \", self.JHist[i][0], \" Theta.T: \", theta.T)\n",
        "            yhat = X*theta\n",
        "            theta = theta -  (X.T * (yhat - y)) * (self.alpha / n)\n",
        "        return theta\n",
        "    \n",
        "\n",
        "    def computeCost(self, X, y, theta):\n",
        "        '''\n",
        "        Computes the objective function\n",
        "        Arguments:\n",
        "          X is a n-by-d numpy matrix\n",
        "          y is an n-dimensional numpy vector\n",
        "          theta is a d-dimensional numpy vector\n",
        "        Returns:\n",
        "          a scalar value of the cost  \n",
        "              ** Not returning a matrix with just one value! **\n",
        "        '''\n",
        "        n,d = X.shape\n",
        "        yhat = X*theta\n",
        "        J =  (yhat-y).T * (yhat-y) / n\n",
        "        J_scalar = J.tolist()[0][0]  # convert matrix to scalar\n",
        "        return J_scalar\n",
        "    \n",
        "\n",
        "    def fit(self, X, y):\n",
        "        '''\n",
        "        Trains the model\n",
        "        Arguments:\n",
        "            X is a n-by-d Pandas Dataframe\n",
        "            y is an n-dimensional Pandas Series\n",
        "        '''\n",
        "        n = len(y)\n",
        "        X = X.to_numpy()\n",
        "        X = np.c_[np.ones((n,1)), X]     # Add a row of ones for the bias term\n",
        "\n",
        "        y = y.to_numpy()\n",
        "        n,d = X.shape\n",
        "        y = y.reshape(n,1)\n",
        "\n",
        "        if self.theta is None:\n",
        "            self.theta = np.matrix(np.zeros((d,1)))\n",
        "\n",
        "        self.theta = self.gradientDescent(X,y,self.theta)   \n",
        "\n",
        "\n",
        "    def predict(self, X):\n",
        "        '''\n",
        "        Used the model to predict values for each instance in X\n",
        "        Arguments:\n",
        "            X is a n-by-d Pandas DataFrame\n",
        "        Returns:\n",
        "            an n-dimensional numpy vector of the predictions\n",
        "        '''\n",
        "        X = X.to_numpy()\n",
        "        X = np.c_[np.ones((n,1)), X]     # Add a row of ones for the bias term\n",
        "        return pd.DataFrame(X*self.theta)"
      ],
      "execution_count": 0,
      "outputs": []
    },
    {
      "cell_type": "markdown",
      "metadata": {
        "Collapsed": "false",
        "id": "nzRRQQokzHxZ",
        "colab_type": "text"
      },
      "source": [
        "### Test code for linear regression"
      ]
    },
    {
      "cell_type": "code",
      "metadata": {
        "Collapsed": "false",
        "scrolled": true,
        "id": "wGj6YqlLzHxa",
        "colab_type": "code",
        "colab": {}
      },
      "source": [
        "def test_linreg(n_iter = 2000):\n",
        "  # load the data\n",
        "  filepath = \"http://www.seas.upenn.edu/~cis519/spring2020/data/hw2-multivariateData.csv\"\n",
        "  df = pd.read_csv(filepath, header=None)\n",
        "\n",
        "  X = df[df.columns[:-1]]\n",
        "  y = df[df.columns[-1]]\n",
        "\n",
        "  n,d = X.shape\n",
        "\n",
        "  # # Standardize features\n",
        "  from sklearn.preprocessing import StandardScaler\n",
        "  standardizer = StandardScaler()\n",
        "  X = pd.DataFrame(standardizer.fit_transform(X))  # compute mean and stdev on training set for standardization\n",
        "\n",
        "  # # initialize the model\n",
        "  init_theta = np.matrix(np.random.randn((d+1))).T\n",
        "  alpha = 0.01\n",
        "\n",
        "  # # Train the model\n",
        "  lr_model = LinearRegression(init_theta = init_theta, alpha = alpha, n_iter = n_iter)\n",
        "  lr_model.fit(X,y)\n",
        "\n",
        "  # # Compute the closed form solution\n",
        "  X = np.asmatrix(X.to_numpy())\n",
        "  X = np.c_[np.ones((n,1)), X]     # Add a row of ones for the bias term\n",
        "  y = np.asmatrix(y.to_numpy())\n",
        "  n,d = X.shape\n",
        "  y = y.reshape(n,1)\n",
        "  thetaClosedForm = inv(X.T*X)*X.T*y\n",
        "  print(\"thetaClosedForm: \", thetaClosedForm.T)"
      ],
      "execution_count": 0,
      "outputs": []
    },
    {
      "cell_type": "markdown",
      "metadata": {
        "id": "EdkpNryXNOU9",
        "colab_type": "text"
      },
      "source": [
        "# Run the Linear Regression Test"
      ]
    },
    {
      "cell_type": "code",
      "metadata": {
        "id": "eT1J1MGUNM_I",
        "colab_type": "code",
        "colab": {}
      },
      "source": [
        "test_linreg(2000)"
      ],
      "execution_count": 0,
      "outputs": []
    },
    {
      "cell_type": "markdown",
      "metadata": {
        "Collapsed": "false",
        "id": "dczVDMsRzHxe",
        "colab_type": "text"
      },
      "source": [
        "# Polynomial Regression"
      ]
    },
    {
      "cell_type": "code",
      "metadata": {
        "Collapsed": "false",
        "id": "h05oGGAyzHxf",
        "colab_type": "code",
        "colab": {}
      },
      "source": [
        "'''\n",
        "    Template for polynomial regression\n",
        "'''\n",
        "\n",
        "import numpy as np\n",
        "\n",
        "\n",
        "#-----------------------------------------------------------------\n",
        "#  Class PolynomialRegression\n",
        "#-----------------------------------------------------------------\n",
        "\n",
        "class PolynomialRegression:\n",
        "\n",
        "    def __init__(self, degree = 1, regLambda = 1E-8):\n",
        "        '''\n",
        "        Constructor\n",
        "        '''\n",
        "        #TODO\n",
        "\n",
        "\n",
        "    def polyfeatures(self, X, degree):\n",
        "        '''\n",
        "        Expands the given X into an n * d array of polynomial features of\n",
        "            degree d.\n",
        "\n",
        "        Returns:\n",
        "            A n-by-d data frame, with each column comprising of\n",
        "            X, X * X, X ** 3, ... up to the dth power of X.\n",
        "            Note that the returned matrix will not include the zero-th power.\n",
        "\n",
        "        Arguments:\n",
        "            X is an n-by-1 data frame\n",
        "            degree is a positive integer\n",
        "        '''\n",
        "        #TODO\n",
        "        \n",
        "\n",
        "    def fit(self, X, y):\n",
        "        '''\n",
        "            Trains the model\n",
        "            Arguments:\n",
        "                X is a n-by-1 data frame\n",
        "                y is an n-by-1 data frame\n",
        "            Returns:\n",
        "                No return value\n",
        "            Note:\n",
        "                You need to apply polynomial expansion and scaling first\n",
        "        '''\n",
        "        #TODO\n",
        "        \n",
        "        \n",
        "    def predict(self, X):\n",
        "        '''\n",
        "        Use the trained model to predict values for each instance in X\n",
        "        Arguments:\n",
        "            X is a n-by-1 data frame\n",
        "        Returns:\n",
        "            an n-by-1 data frame of the predictions\n",
        "        '''\n",
        "        # TODO\n",
        "\n",
        "\n",
        "\n"
      ],
      "execution_count": 0,
      "outputs": []
    },
    {
      "cell_type": "markdown",
      "metadata": {
        "id": "oZlhLMhYQOpM",
        "colab_type": "text"
      },
      "source": [
        "# Test Polynomial Regression"
      ]
    },
    {
      "cell_type": "code",
      "metadata": {
        "id": "xkTNjZw1P0rM",
        "colab_type": "code",
        "colab": {}
      },
      "source": [
        "import numpy as np\n",
        "import matplotlib.pyplot as plt\n",
        "\n",
        "def test_polyreg_univariate():\n",
        "    '''\n",
        "        Test polynomial regression\n",
        "    '''\n",
        "\n",
        "    # load the data\n",
        "    filepath = \"http://www.seas.upenn.edu/~cis519/spring2020/data/hw2-polydata.csv\"\n",
        "    df = pd.read_csv(filepath, header=None)\n",
        "\n",
        "    X = df[df.columns[:-1]]\n",
        "    y = df[df.columns[-1]]\n",
        "\n",
        "    # regression with degree = d\n",
        "    d = 8\n",
        "    model = PolynomialRegression(degree = d, regLambda = 0)\n",
        "    model.fit(X, y)\n",
        "    \n",
        "    # output predictions\n",
        "    xpoints = pd.DataFrame(np.linspace(np.max(X), np.min(X), 100))\n",
        "    ypoints = model.predict(xpoints)\n",
        "\n",
        "    # plot curve\n",
        "    plt.figure()\n",
        "    plt.plot(X, y, 'rx')\n",
        "    plt.title('PolyRegression with d = '+str(d))\n",
        "    plt.plot(xpoints, ypoints, 'b-')\n",
        "    plt.xlabel('X')\n",
        "    plt.ylabel('Y')\n",
        "    plt.show()"
      ],
      "execution_count": 0,
      "outputs": []
    },
    {
      "cell_type": "code",
      "metadata": {
        "id": "vHDHzmkNQLQW",
        "colab_type": "code",
        "colab": {}
      },
      "source": [
        "test_polyreg_univariate()"
      ],
      "execution_count": 0,
      "outputs": []
    }
  ]
}