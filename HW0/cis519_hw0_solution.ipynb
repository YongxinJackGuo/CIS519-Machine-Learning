{
 "cells": [
  {
   "cell_type": "markdown",
   "metadata": {
    "colab_type": "text",
    "id": "LQkqjT3cEMyJ"
   },
   "source": [
    "#CIS 419/519 HW0 iPython Notebook\n",
    "\n",
    "Complete the answers to Questions 5 and 6 by completing this notebook.\n"
   ]
  },
  {
   "cell_type": "markdown",
   "metadata": {
    "colab_type": "text",
    "id": "Q7QWMw16UjXL"
   },
   "source": [
    "# 5.) Dynamic Programming"
   ]
  },
  {
   "cell_type": "code",
   "execution_count": 27,
   "metadata": {
    "colab": {},
    "colab_type": "code",
    "id": "BVFQ5uheY-RR",
    "scrolled": true
   },
   "outputs": [],
   "source": [
    "def CompletePath(s, w, h) -> str:\n",
    "    '''This function is used to escape from a room whose size is w * h.\n",
    "    You are trapped in the bottom-left corner and need to cross to the\n",
    "    door in the upper-right corner to escape.\n",
    "    @:param s: a string representing the partial path composed of {'U', 'D', 'L', 'R', '?'}\n",
    "    @:param w: an integer representing the room width\n",
    "    @:param h: an integer representing the room length\n",
    "    @:return path: a string that represents the completed path, with all question marks in with the correct directions\n",
    "    or None if there is no path possible.\n",
    "    '''\n",
    "\n",
    "    # # TODO # #\n",
    "    \n",
    "    # the bottom-left corner will be a list [1, 1] and top-right will be a list [w, h], \n",
    "    def findPath(s, curRoom, s_start, trajectory):\n",
    "        for index, mov in enumerate(s, start=s_start): # loop through the partial path\n",
    "            if mov == \"U\": # going up\n",
    "                curRoom[1] += 1\n",
    "            elif mov == 'D': # going down\n",
    "                curRoom[1] -= 1\n",
    "            elif mov == 'L': # going left\n",
    "                curRoom[0] -= 1\n",
    "            elif mov == 'R': # going right\n",
    "                curRoom[0] += 1\n",
    "            else: # got a question mark ? enter the recursion section\n",
    "                # recursive function to find the possible path by looping through UDLR direction\n",
    "                for trial in command:\n",
    "                    # substitute the question mark with the current command we make\n",
    "                    path[index] = trial\n",
    "                    # check if there is a solution\n",
    "                    if findPath([trial] + path[index+1:], curRoom[:], index, trajectory[:]) == True: \n",
    "                        return True # return back to last layer if a solution is found\n",
    "                    else:\n",
    "                        pass\n",
    "                return False # all four possible commands won't get to the goal, return 0 to previous layer\n",
    "            if curRoom in trajectory: # check if the grid cell has been visited before\n",
    "                return False # return False to last layer if it is visited\n",
    "            else:\n",
    "                # otherwise append the visted cell to the trajectory\n",
    "                trajectory.append(curRoom.copy())\n",
    "            # check if path is out of boundary\n",
    "            if curRoom[0] < 1 or curRoom[0] > w or curRoom[1] < 1 or curRoom[1] > h:\n",
    "                return False # return false if it is out of boundary\n",
    "            \n",
    "        if curRoom == goalRoom: # return true if we reach the goal room\n",
    "            return True\n",
    "        else: # otherwise return false\n",
    "            return False\n",
    "        \n",
    "   \n",
    "    startRoom = [1, 1] # specify the start, which is always at [1, 1]\n",
    "    goalRoom = [w, h] # specify the goal room [w, h] by our definition\n",
    "    command = 'UDLR' # specify the sequence of command we need to take at ? mark\n",
    "    #command = 'RLDU'\n",
    "    path = list(s) # create a copy of the partial path in list form\n",
    "    traj_start = [[1,1]]\n",
    "    \n",
    "    if findPath(s, startRoom, 0, traj_start) != False:\n",
    "        return \"\".join(path)\n",
    "    else:\n",
    "        return None\n",
    "    pass\n",
    "   \n",
    "# # trial 1\n",
    "# s1 = \"?RDRR?UUUR\" # URDRRUUUUR\n",
    "# w1 = 5\n",
    "# h1 = 5\n",
    "# # trial 2\n",
    "# s2 = \"UURDD?UUR?RR\" # UURDDRUURURR\n",
    "# w2 = 6\n",
    "# h2 = 4\n",
    "# # trial 3\n",
    "# s3 = \"UUR?UUR?DRR?UU\" # UURRUURDDRRUUU or UURUUURDDRRRUU\n",
    "# w3 = 6\n",
    "# h3 = 6\n",
    "# # trial 4 with no solution exist\n",
    "# s4 = \"UUUUUUUUU?R?UU\"\n",
    "# w4 = 6\n",
    "# h4 = 6\n",
    "# # Please be noted that the possible escape path may exist multiple solutions! \n",
    "# # It depends on the sequence of the trial you choose when facing ? mark\n",
    "# # for example, a command sequence of 'RLDU' and 'UDLR' will generate different soln\n",
    "# # corresponding to UURRUURDDRRUUU or UURUUURDDRRRUU respectively for trial 3\n",
    "# print(CompletePath(s2, w2, h2))\n",
    "\n"
   ]
  },
  {
   "cell_type": "markdown",
   "metadata": {
    "colab_type": "text",
    "id": "OW1cr1JVY931"
   },
   "source": [
    "# 6.) Pandas Data Manipulation"
   ]
  },
  {
   "cell_type": "markdown",
   "metadata": {
    "colab_type": "text",
    "id": "q_jsBFRPYb5l"
   },
   "source": [
    "In this section, we use the `Pandas` package to carry out 3 common data manipulation tasks :\n",
    "\n",
    "* **Calculate missing ratios of variables**\n",
    "* **Create numerical binary variables**\n",
    "* **Convert categorical variables using one-hot encoding**\n",
    "\n",
    "For the exercise, we will be using the Titanic dataset, the details of which can be found [here](https://www.kaggle.com/c/titanic/overview). For each of the data manipulation tasks, we have defined a skeleton for the python functions that carry out the given the manipulation. Using the function documentation, fill in the functions to implement the data manipulation.\n"
   ]
  },
  {
   "cell_type": "markdown",
   "metadata": {
    "colab_type": "text",
    "id": "1obv1F0wUTsl"
   },
   "source": [
    "**Dataset Link** : https://github.com/rsk2327/CIS519/blob/master/train.csv\n",
    "\n",
    "\n",
    "The file can be downloaded by navigating to the above link, clicking on the 'Raw' option and then saving the file.\n",
    "\n",
    "Linux/Mac users can use the `wget` command to download the file directly. This can be done by running the following code in a Jupyter notebook cell\n",
    "\n",
    "```\n",
    "!wget https://github.com/rsk2327/CIS519/blob/master/train.csv\n",
    "```\n",
    "\n"
   ]
  },
  {
   "cell_type": "code",
   "execution_count": 146,
   "metadata": {},
   "outputs": [],
   "source": [
    "import numpy as np\n",
    "import pandas as pd"
   ]
  },
  {
   "cell_type": "code",
   "execution_count": 147,
   "metadata": {
    "colab": {},
    "colab_type": "code",
    "id": "PPUszuaKUTsm"
   },
   "outputs": [],
   "source": [
    "# Read in the datafile using Pandas\n",
    "\n",
    "df = pd.DataFrame(pd.read_csv('train.csv')) # read in the file # # TODO # #"
   ]
  },
  {
   "cell_type": "code",
   "execution_count": 148,
   "metadata": {},
   "outputs": [],
   "source": [
    "# !wget https://github.com/rsk2327/CIS519/blob/master/train.csv"
   ]
  },
  {
   "cell_type": "code",
   "execution_count": 149,
   "metadata": {
    "colab": {},
    "colab_type": "code",
    "id": "nwSui-SXUTso"
   },
   "outputs": [],
   "source": [
    "def getMissingRatio(inputDf):\n",
    "    \"\"\"\n",
    "    Returns the percentage of missing values in each feature of the dataset.\n",
    "    \n",
    "    Ensure that the output dataframe has the column names: Feature, MissingPercent\n",
    "\n",
    "    Args:\n",
    "        inputDf (Pandas.DataFrame): Dataframe to be evaluated\n",
    "\n",
    "\n",
    "    Returns:\n",
    "        outDf (Pandas.DataFrame): Resultant dataframe with 2 columns (Feature, MissingPercent)\n",
    "                                  Each row corresponds to one of the features in `inputDf`\n",
    "\n",
    "    \"\"\"\n",
    "    ## TODO ##\n",
    "    # a table consisting of true or false indicating if the information is missing. NaN -> true\n",
    "    bolTable = inputDf.isna()\n",
    "    # sum up the bolean table and divide by the length to get the missing ratio\n",
    "    ratio = bolTable.sum() / len(df.index) \n",
    "    # construct the output dataframe\n",
    "    outDf = pd.DataFrame({'Feature': inputDf.columns.values, 'MissingPercent': ratio.values})\n",
    "    \n",
    "    return outDf\n",
    "\n",
    "# display(df)\n",
    "# display(getMissingRatio(df))"
   ]
  },
  {
   "cell_type": "code",
   "execution_count": 150,
   "metadata": {
    "colab": {},
    "colab_type": "code",
    "id": "a2Ub6gUzUTsq"
   },
   "outputs": [],
   "source": [
    "def convertToBinary(inputDf, feature):\n",
    "    \"\"\"\n",
    "    Converts a two-value (binary) categorical feature into a numerical 0-1 representation and appends it to the dataframe\n",
    "    \n",
    "    Args:\n",
    "        inputDf (pandas.DataFrame): Input dataframe\n",
    "        variable (str) : Categorical feature which has to be converted into a numerical (0-1) representation\n",
    "        \n",
    "    Returns:\n",
    "        outDf : Resultant dataframe with the original two-value categorical feature replaced by a numerical 0-1 feature\n",
    "\n",
    "    \"\"\"\n",
    "    ## TODO ##\n",
    "    outDf = inputDf.copy() # make a copy so that we are not modifying the original dataframe\n",
    "    # get the first value as the seed and compare it with the rest of following value resulting in bolean list, then convert to numerical datatypes\n",
    "    binaryList = (outDf.loc[:, feature] == outDf.loc[0, feature]).astype('int32')\n",
    "    outDf.loc[:, feature] = binaryList # replace the target feature with the numerical 0-1 representation \n",
    "    return outDf\n",
    "\n",
    "# display(convertToBinary(df,'Sex'))\n",
    "# display(df)"
   ]
  },
  {
   "cell_type": "code",
   "execution_count": 144,
   "metadata": {
    "colab": {},
    "colab_type": "code",
    "id": "3-Wj4GgQUTss",
    "scrolled": true
   },
   "outputs": [],
   "source": [
    "def addDummyFeatures(inputDf, feature):\n",
    "    \"\"\"\n",
    "    Create a one-hot-encoded version of a categorical feature and append it to the existing \n",
    "    dataframe.\n",
    "    \n",
    "    After one-hot encoding the categorical feature, ensure that the original categorical feature is dropped\n",
    "    from the dataframe so that only the one-hot-encoded features are retained.\n",
    "    \n",
    "    For more on one-hot encoding (OHE) : https://hackernoon.com/what-is-one-hot-encoding-why-and-when-do-you-have-to-use-it-e3c6186d008f\n",
    "\n",
    "    Arguments:\n",
    "        inputDf (Pandas.DataFrame): input dataframe\n",
    "        feature (str) : Feature for which the OHE is to be performed\n",
    "\n",
    "\n",
    "    Returns:\n",
    "        outDf (Pandas.DataFrame): Resultant dataframe with the OHE features appended and the original feature removed\n",
    "\n",
    "    \"\"\"\n",
    "    ## TODO ##\n",
    "    outDf = inputDf.copy() # make a copy\n",
    "    # collect all the possible values for a given feature without repetition, which then becomes a list of new features\n",
    "    oneHotList = inputDf.loc[:, feature].unique()\n",
    "    for newFeature in oneHotList: # loop through all possible new features\n",
    "        newFeatureCol = (inputDf.loc[:, feature] == newFeature).astype('int32') # compare with target feature to produce a list of binary values\n",
    "        outDf[newFeature] = newFeatureCol # append to the output dataframes\n",
    "    \n",
    "    outDf = outDf.drop(columns = feature) # remove the target feature since it was already replaced by new dummy features\n",
    "    return outDf\n",
    "\n",
    "# addDummyFeatures(df,'Ticket')"
   ]
  }
 ],
 "metadata": {
  "colab": {
   "collapsed_sections": [],
   "name": "CIS519_HW0.ipynb",
   "provenance": []
  },
  "kernelspec": {
   "display_name": "Python 3",
   "language": "python",
   "name": "python3"
  },
  "language_info": {
   "codemirror_mode": {
    "name": "ipython",
    "version": 3
   },
   "file_extension": ".py",
   "mimetype": "text/x-python",
   "name": "python",
   "nbconvert_exporter": "python",
   "pygments_lexer": "ipython3",
   "version": "3.7.3"
  }
 },
 "nbformat": 4,
 "nbformat_minor": 1
}
